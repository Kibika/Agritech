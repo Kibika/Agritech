{
 "cells": [
  {
   "cell_type": "code",
   "execution_count": 2,
   "id": "4dbd08b3-fda2-46a6-82f3-580d4af37582",
   "metadata": {
    "collapsed": true,
    "jupyter": {
     "outputs_hidden": true
    },
    "tags": []
   },
   "outputs": [
    {
     "name": "stdout",
     "output_type": "stream",
     "text": [
      "\u001b[33mWARNING: Ignoring invalid distribution -ython-dateutil (/opt/miniconda/lib/python3.9/site-packages)\u001b[0m\n",
      "\u001b[33mWARNING: Ignoring invalid distribution -heel (/opt/miniconda/lib/python3.9/site-packages)\u001b[0m\n",
      "\u001b[33mWARNING: Ignoring invalid distribution -ython-dateutil (/opt/miniconda/lib/python3.9/site-packages)\u001b[0m\n",
      "\u001b[33mWARNING: Ignoring invalid distribution -heel (/opt/miniconda/lib/python3.9/site-packages)\u001b[0m\n",
      "Collecting agri-tech==0.1.9\n",
      "  Downloading agri_tech-0.1.9-py2.py3-none-any.whl (29 kB)\n",
      "Requirement already satisfied: GDAL in /opt/miniconda/lib/python3.9/site-packages (from agri-tech==0.1.9) (3.3.1)\n",
      "Requirement already satisfied: geopandas in /opt/miniconda/lib/python3.9/site-packages (from agri-tech==0.1.9) (0.9.0)\n",
      "Requirement already satisfied: PDAL in /opt/miniconda/lib/python3.9/site-packages (from agri-tech==0.1.9) (2.4.2)\n",
      "Requirement already satisfied: shapely in /opt/miniconda/lib/python3.9/site-packages (from agri-tech==0.1.9) (1.7.1)\n",
      "Requirement already satisfied: ipywidgets in /opt/miniconda/lib/python3.9/site-packages (from agri-tech==0.1.9) (7.6.3)\n",
      "Requirement already satisfied: rasterio in /opt/miniconda/lib/python3.9/site-packages (from agri-tech==0.1.9) (1.2.6)\n",
      "Requirement already satisfied: scipy in /opt/miniconda/lib/python3.9/site-packages (from agri-tech==0.1.9) (1.6.3)\n",
      "Requirement already satisfied: requests in /opt/miniconda/lib/python3.9/site-packages (from agri-tech==0.1.9) (2.25.1)\n",
      "Requirement already satisfied: fiona>=1.8 in /opt/miniconda/lib/python3.9/site-packages (from geopandas->agri-tech==0.1.9) (1.8.20)\n",
      "Requirement already satisfied: pandas>=0.24.0 in /opt/miniconda/lib/python3.9/site-packages (from geopandas->agri-tech==0.1.9) (1.3.1)\n",
      "Requirement already satisfied: pyproj>=2.2.0 in /opt/miniconda/lib/python3.9/site-packages (from geopandas->agri-tech==0.1.9) (3.1.0)\n",
      "Requirement already satisfied: attrs>=17 in /opt/miniconda/lib/python3.9/site-packages (from fiona>=1.8->geopandas->agri-tech==0.1.9) (21.2.0)\n",
      "Requirement already satisfied: certifi in /opt/miniconda/lib/python3.9/site-packages (from fiona>=1.8->geopandas->agri-tech==0.1.9) (2021.5.30)\n",
      "Requirement already satisfied: click>=4.0 in /opt/miniconda/lib/python3.9/site-packages (from fiona>=1.8->geopandas->agri-tech==0.1.9) (8.0.1)\n",
      "Requirement already satisfied: cligj>=0.5 in /opt/miniconda/lib/python3.9/site-packages (from fiona>=1.8->geopandas->agri-tech==0.1.9) (0.7.2)\n",
      "Requirement already satisfied: click-plugins>=1.0 in /opt/miniconda/lib/python3.9/site-packages (from fiona>=1.8->geopandas->agri-tech==0.1.9) (1.1.1)\n",
      "Requirement already satisfied: six>=1.7 in /opt/miniconda/lib/python3.9/site-packages (from fiona>=1.8->geopandas->agri-tech==0.1.9) (1.16.0)\n",
      "Requirement already satisfied: munch in /opt/miniconda/lib/python3.9/site-packages (from fiona>=1.8->geopandas->agri-tech==0.1.9) (2.5.0)\n",
      "Requirement already satisfied: setuptools in /opt/miniconda/lib/python3.9/site-packages (from fiona>=1.8->geopandas->agri-tech==0.1.9) (57.4.0)\n",
      "Requirement already satisfied: numpy>=1.17.3 in /opt/miniconda/lib/python3.9/site-packages (from pandas>=0.24.0->geopandas->agri-tech==0.1.9) (1.20.3)\n",
      "Requirement already satisfied: python-dateutil>=2.7.3 in /opt/miniconda/lib/python3.9/site-packages (from pandas>=0.24.0->geopandas->agri-tech==0.1.9) (2.8.2)\n",
      "Requirement already satisfied: pytz>=2017.3 in /opt/miniconda/lib/python3.9/site-packages (from pandas>=0.24.0->geopandas->agri-tech==0.1.9) (2021.1)\n",
      "Requirement already satisfied: traitlets>=4.3.1 in /opt/miniconda/lib/python3.9/site-packages (from ipywidgets->agri-tech==0.1.9) (5.0.5)\n",
      "Requirement already satisfied: jupyterlab-widgets>=1.0.0 in /opt/miniconda/lib/python3.9/site-packages (from ipywidgets->agri-tech==0.1.9) (1.0.0)\n",
      "Requirement already satisfied: ipykernel>=4.5.1 in /opt/miniconda/lib/python3.9/site-packages (from ipywidgets->agri-tech==0.1.9) (6.2.0)\n",
      "Requirement already satisfied: widgetsnbextension~=3.5.0 in /opt/miniconda/lib/python3.9/site-packages (from ipywidgets->agri-tech==0.1.9) (3.5.1)\n",
      "Requirement already satisfied: ipython>=4.0.0 in /opt/miniconda/lib/python3.9/site-packages (from ipywidgets->agri-tech==0.1.9) (7.26.0)\n",
      "Requirement already satisfied: nbformat>=4.2.0 in /opt/miniconda/lib/python3.9/site-packages (from ipywidgets->agri-tech==0.1.9) (5.1.3)\n",
      "Requirement already satisfied: matplotlib-inline<0.2.0,>=0.1.0 in /opt/miniconda/lib/python3.9/site-packages (from ipykernel>=4.5.1->ipywidgets->agri-tech==0.1.9) (0.1.2)\n",
      "Requirement already satisfied: debugpy<2.0,>=1.0.0 in /opt/miniconda/lib/python3.9/site-packages (from ipykernel>=4.5.1->ipywidgets->agri-tech==0.1.9) (1.4.1)\n",
      "Requirement already satisfied: jupyter-client<8.0 in /opt/miniconda/lib/python3.9/site-packages (from ipykernel>=4.5.1->ipywidgets->agri-tech==0.1.9) (6.1.12)\n",
      "Requirement already satisfied: tornado<7.0,>=4.2 in /opt/miniconda/lib/python3.9/site-packages (from ipykernel>=4.5.1->ipywidgets->agri-tech==0.1.9) (6.1)\n",
      "Requirement already satisfied: decorator in /opt/miniconda/lib/python3.9/site-packages (from ipython>=4.0.0->ipywidgets->agri-tech==0.1.9) (5.0.9)\n",
      "Requirement already satisfied: pexpect>4.3 in /opt/miniconda/lib/python3.9/site-packages (from ipython>=4.0.0->ipywidgets->agri-tech==0.1.9) (4.8.0)\n",
      "Requirement already satisfied: pickleshare in /opt/miniconda/lib/python3.9/site-packages (from ipython>=4.0.0->ipywidgets->agri-tech==0.1.9) (0.7.5)\n",
      "Requirement already satisfied: prompt-toolkit!=3.0.0,!=3.0.1,<3.1.0,>=2.0.0 in /opt/miniconda/lib/python3.9/site-packages (from ipython>=4.0.0->ipywidgets->agri-tech==0.1.9) (3.0.17)\n",
      "Requirement already satisfied: backcall in /opt/miniconda/lib/python3.9/site-packages (from ipython>=4.0.0->ipywidgets->agri-tech==0.1.9) (0.2.0)\n",
      "Requirement already satisfied: jedi>=0.16 in /opt/miniconda/lib/python3.9/site-packages (from ipython>=4.0.0->ipywidgets->agri-tech==0.1.9) (0.18.0)\n",
      "Requirement already satisfied: pygments in /opt/miniconda/lib/python3.9/site-packages (from ipython>=4.0.0->ipywidgets->agri-tech==0.1.9) (2.10.0)\n",
      "Requirement already satisfied: parso<0.9.0,>=0.8.0 in /opt/miniconda/lib/python3.9/site-packages (from jedi>=0.16->ipython>=4.0.0->ipywidgets->agri-tech==0.1.9) (0.8.2)\n",
      "Requirement already satisfied: pyzmq>=13 in /opt/miniconda/lib/python3.9/site-packages (from jupyter-client<8.0->ipykernel>=4.5.1->ipywidgets->agri-tech==0.1.9) (22.2.1)\n",
      "Requirement already satisfied: jupyter-core>=4.6.0 in /opt/miniconda/lib/python3.9/site-packages (from jupyter-client<8.0->ipykernel>=4.5.1->ipywidgets->agri-tech==0.1.9) (4.7.1)\n",
      "Requirement already satisfied: jsonschema!=2.5.0,>=2.4 in /opt/miniconda/lib/python3.9/site-packages (from nbformat>=4.2.0->ipywidgets->agri-tech==0.1.9) (3.2.0)\n",
      "Requirement already satisfied: ipython-genutils in /opt/miniconda/lib/python3.9/site-packages (from nbformat>=4.2.0->ipywidgets->agri-tech==0.1.9) (0.2.0)\n",
      "Requirement already satisfied: pyrsistent>=0.14.0 in /opt/miniconda/lib/python3.9/site-packages (from jsonschema!=2.5.0,>=2.4->nbformat>=4.2.0->ipywidgets->agri-tech==0.1.9) (0.18.0)\n",
      "Requirement already satisfied: ptyprocess>=0.5 in /opt/miniconda/lib/python3.9/site-packages (from pexpect>4.3->ipython>=4.0.0->ipywidgets->agri-tech==0.1.9) (0.7.0)\n",
      "Requirement already satisfied: wcwidth in /opt/miniconda/lib/python3.9/site-packages (from prompt-toolkit!=3.0.0,!=3.0.1,<3.1.0,>=2.0.0->ipython>=4.0.0->ipywidgets->agri-tech==0.1.9) (0.2.5)\n",
      "Requirement already satisfied: notebook>=4.4.1 in /opt/miniconda/lib/python3.9/site-packages (from widgetsnbextension~=3.5.0->ipywidgets->agri-tech==0.1.9) (6.4.3)\n",
      "Requirement already satisfied: nbconvert in /opt/miniconda/lib/python3.9/site-packages (from notebook>=4.4.1->widgetsnbextension~=3.5.0->ipywidgets->agri-tech==0.1.9) (6.1.0)\n",
      "Requirement already satisfied: prometheus-client in /opt/miniconda/lib/python3.9/site-packages (from notebook>=4.4.1->widgetsnbextension~=3.5.0->ipywidgets->agri-tech==0.1.9) (0.11.0)\n",
      "Requirement already satisfied: argon2-cffi in /opt/miniconda/lib/python3.9/site-packages (from notebook>=4.4.1->widgetsnbextension~=3.5.0->ipywidgets->agri-tech==0.1.9) (20.1.0)\n",
      "Requirement already satisfied: terminado>=0.8.3 in /opt/miniconda/lib/python3.9/site-packages (from notebook>=4.4.1->widgetsnbextension~=3.5.0->ipywidgets->agri-tech==0.1.9) (0.9.4)\n",
      "Requirement already satisfied: jinja2 in /opt/miniconda/lib/python3.9/site-packages (from notebook>=4.4.1->widgetsnbextension~=3.5.0->ipywidgets->agri-tech==0.1.9) (2.11.3)\n",
      "Requirement already satisfied: Send2Trash>=1.5.0 in /opt/miniconda/lib/python3.9/site-packages (from notebook>=4.4.1->widgetsnbextension~=3.5.0->ipywidgets->agri-tech==0.1.9) (1.5.0)\n",
      "Requirement already satisfied: cffi>=1.0.0 in /opt/miniconda/lib/python3.9/site-packages (from argon2-cffi->notebook>=4.4.1->widgetsnbextension~=3.5.0->ipywidgets->agri-tech==0.1.9) (1.14.6)\n",
      "Requirement already satisfied: pycparser in /opt/miniconda/lib/python3.9/site-packages (from cffi>=1.0.0->argon2-cffi->notebook>=4.4.1->widgetsnbextension~=3.5.0->ipywidgets->agri-tech==0.1.9) (2.20)\n",
      "Requirement already satisfied: MarkupSafe>=0.23 in /opt/miniconda/lib/python3.9/site-packages (from jinja2->notebook>=4.4.1->widgetsnbextension~=3.5.0->ipywidgets->agri-tech==0.1.9) (2.0.1)\n",
      "Requirement already satisfied: defusedxml in /opt/miniconda/lib/python3.9/site-packages (from nbconvert->notebook>=4.4.1->widgetsnbextension~=3.5.0->ipywidgets->agri-tech==0.1.9) (0.7.1)\n",
      "Requirement already satisfied: bleach in /opt/miniconda/lib/python3.9/site-packages (from nbconvert->notebook>=4.4.1->widgetsnbextension~=3.5.0->ipywidgets->agri-tech==0.1.9) (4.0.0)\n",
      "Requirement already satisfied: testpath in /opt/miniconda/lib/python3.9/site-packages (from nbconvert->notebook>=4.4.1->widgetsnbextension~=3.5.0->ipywidgets->agri-tech==0.1.9) (0.5.0)\n",
      "Requirement already satisfied: jupyterlab-pygments in /opt/miniconda/lib/python3.9/site-packages (from nbconvert->notebook>=4.4.1->widgetsnbextension~=3.5.0->ipywidgets->agri-tech==0.1.9) (0.1.2)\n",
      "Requirement already satisfied: pandocfilters>=1.4.1 in /opt/miniconda/lib/python3.9/site-packages (from nbconvert->notebook>=4.4.1->widgetsnbextension~=3.5.0->ipywidgets->agri-tech==0.1.9) (1.4.3)\n",
      "Requirement already satisfied: entrypoints>=0.2.2 in /opt/miniconda/lib/python3.9/site-packages (from nbconvert->notebook>=4.4.1->widgetsnbextension~=3.5.0->ipywidgets->agri-tech==0.1.9) (0.3)\n",
      "Requirement already satisfied: nbclient<0.6.0,>=0.5.0 in /opt/miniconda/lib/python3.9/site-packages (from nbconvert->notebook>=4.4.1->widgetsnbextension~=3.5.0->ipywidgets->agri-tech==0.1.9) (0.5.3)\n",
      "Requirement already satisfied: mistune<2,>=0.8.1 in /opt/miniconda/lib/python3.9/site-packages (from nbconvert->notebook>=4.4.1->widgetsnbextension~=3.5.0->ipywidgets->agri-tech==0.1.9) (0.8.4)\n",
      "Requirement already satisfied: async-generator in /opt/miniconda/lib/python3.9/site-packages (from nbclient<0.6.0,>=0.5.0->nbconvert->notebook>=4.4.1->widgetsnbextension~=3.5.0->ipywidgets->agri-tech==0.1.9) (1.10)\n",
      "Requirement already satisfied: nest-asyncio in /opt/miniconda/lib/python3.9/site-packages (from nbclient<0.6.0,>=0.5.0->nbconvert->notebook>=4.4.1->widgetsnbextension~=3.5.0->ipywidgets->agri-tech==0.1.9) (1.5.1)\n",
      "Requirement already satisfied: packaging in /opt/miniconda/lib/python3.9/site-packages (from bleach->nbconvert->notebook>=4.4.1->widgetsnbextension~=3.5.0->ipywidgets->agri-tech==0.1.9) (21.0)\n",
      "Requirement already satisfied: webencodings in /opt/miniconda/lib/python3.9/site-packages (from bleach->nbconvert->notebook>=4.4.1->widgetsnbextension~=3.5.0->ipywidgets->agri-tech==0.1.9) (0.5.1)\n",
      "Requirement already satisfied: pyparsing>=2.0.2 in /opt/miniconda/lib/python3.9/site-packages (from packaging->bleach->nbconvert->notebook>=4.4.1->widgetsnbextension~=3.5.0->ipywidgets->agri-tech==0.1.9) (2.4.7)\n",
      "Requirement already satisfied: snuggs>=1.4.1 in /opt/miniconda/lib/python3.9/site-packages (from rasterio->agri-tech==0.1.9) (1.4.7)\n",
      "Requirement already satisfied: affine in /opt/miniconda/lib/python3.9/site-packages (from rasterio->agri-tech==0.1.9) (2.3.0)\n",
      "Requirement already satisfied: urllib3<1.27,>=1.21.1 in /opt/miniconda/lib/python3.9/site-packages (from requests->agri-tech==0.1.9) (1.26.6)\n",
      "Requirement already satisfied: idna<3,>=2.5 in /opt/miniconda/lib/python3.9/site-packages (from requests->agri-tech==0.1.9) (2.10)\n",
      "Requirement already satisfied: chardet<5,>=3.0.2 in /opt/miniconda/lib/python3.9/site-packages (from requests->agri-tech==0.1.9) (3.0.4)\n",
      "\u001b[33mWARNING: Ignoring invalid distribution -ython-dateutil (/opt/miniconda/lib/python3.9/site-packages)\u001b[0m\n",
      "\u001b[33mWARNING: Ignoring invalid distribution -heel (/opt/miniconda/lib/python3.9/site-packages)\u001b[0m\n",
      "Installing collected packages: agri-tech\n",
      "  Attempting uninstall: agri-tech\n",
      "\u001b[33m    WARNING: Ignoring invalid distribution -ython-dateutil (/opt/miniconda/lib/python3.9/site-packages)\u001b[0m\n",
      "\u001b[33m    WARNING: Ignoring invalid distribution -heel (/opt/miniconda/lib/python3.9/site-packages)\u001b[0m\n",
      "    Found existing installation: agri-tech 0.1.8\n",
      "    Uninstalling agri-tech-0.1.8:\n",
      "      Successfully uninstalled agri-tech-0.1.8\n",
      "\u001b[33mWARNING: Ignoring invalid distribution -ython-dateutil (/opt/miniconda/lib/python3.9/site-packages)\u001b[0m\n",
      "\u001b[33mWARNING: Ignoring invalid distribution -heel (/opt/miniconda/lib/python3.9/site-packages)\u001b[0m\n",
      "Successfully installed agri-tech-0.1.9\n",
      "\u001b[33mWARNING: Ignoring invalid distribution -ython-dateutil (/opt/miniconda/lib/python3.9/site-packages)\u001b[0m\n",
      "\u001b[33mWARNING: Ignoring invalid distribution -heel (/opt/miniconda/lib/python3.9/site-packages)\u001b[0m\n",
      "\u001b[33mWARNING: Ignoring invalid distribution -ython-dateutil (/opt/miniconda/lib/python3.9/site-packages)\u001b[0m\n",
      "\u001b[33mWARNING: Ignoring invalid distribution -heel (/opt/miniconda/lib/python3.9/site-packages)\u001b[0m\n",
      "Note: you may need to restart the kernel to use updated packages.\n"
     ]
    }
   ],
   "source": [
    "pip install agri-tech==0.1.9"
   ]
  },
  {
   "cell_type": "code",
   "execution_count": 3,
   "id": "3e92abba-15df-4110-87e9-e6d49916616b",
   "metadata": {},
   "outputs": [],
   "source": [
    "import agri_tech"
   ]
  },
  {
   "cell_type": "code",
   "execution_count": 4,
   "id": "f592d7b5-4072-4101-8c56-1465a09342b0",
   "metadata": {},
   "outputs": [],
   "source": [
    "from agri_tech import agri_tech"
   ]
  },
  {
   "cell_type": "code",
   "execution_count": 5,
   "id": "f393bd22-e26e-4b4c-989f-bf8b85ae0bf5",
   "metadata": {},
   "outputs": [],
   "source": [
    "method = agri_tech.Lidar()"
   ]
  },
  {
   "cell_type": "code",
   "execution_count": 6,
   "id": "9eb3f7c3-b918-4294-adf4-47c8a496d263",
   "metadata": {},
   "outputs": [
    {
     "data": {
      "application/vnd.jupyter.widget-view+json": {
       "model_id": "e2faf508de704928946f46308dd8aba0",
       "version_major": 2,
       "version_minor": 0
      },
      "text/plain": [
       "interactive(children=(Dropdown(description='x', options=('AK_BrooksCamp_2012/', 'AK_Coastal_2009/', 'AK_Fairba…"
      ]
     },
     "metadata": {},
     "output_type": "display_data"
    },
    {
     "data": {
      "application/vnd.jupyter.widget-view+json": {
       "model_id": "89e6e9d7f92b44248078942aba245597",
       "version_major": 2,
       "version_minor": 0
      },
      "text/plain": [
       "Text(value='AK_BrooksCamp_2012/')"
      ]
     },
     "metadata": {},
     "output_type": "display_data"
    }
   ],
   "source": [
    "method.region()"
   ]
  },
  {
   "cell_type": "code",
   "execution_count": 8,
   "id": "20a981a0-5e03-426b-b31e-81b0c64fbfb4",
   "metadata": {},
   "outputs": [
    {
     "data": {
      "text/plain": [
       "'https://s3-us-west-2.amazonaws.com/usgs-lidar-public/IA_FullState/ept.json'"
      ]
     },
     "execution_count": 8,
     "metadata": {},
     "output_type": "execute_result"
    }
   ],
   "source": [
    "method.ept_json()"
   ]
  },
  {
   "cell_type": "code",
   "execution_count": 10,
   "id": "1ebb3c80-1a8f-40c2-ba7e-1bebd952e5d0",
   "metadata": {},
   "outputs": [
    {
     "data": {
      "text/plain": [
       "'([-10436887.43333523, -10435905.484106943], [5148706.389047224, 5149217.145836504])'"
      ]
     },
     "execution_count": 10,
     "metadata": {},
     "output_type": "execute_result"
    }
   ],
   "source": [
    "method.pipeline(xmin = -93.756155,xmax = -93.747334, ymin = 41.918015, ymax = 41.921429)"
   ]
  },
  {
   "cell_type": "code",
   "execution_count": 12,
   "id": "745932b3-8e01-48c4-9fbf-3d7a3af753eb",
   "metadata": {},
   "outputs": [
    {
     "data": {
      "text/plain": [
       "'spatial_subset.geojson'"
      ]
     },
     "execution_count": 12,
     "metadata": {},
     "output_type": "execute_result"
    }
   ],
   "source": [
    "method.run_pipeline()"
   ]
  },
  {
   "cell_type": "code",
   "execution_count": 13,
   "id": "418e543e-91b4-4482-ae9d-e728866f59fe",
   "metadata": {},
   "outputs": [
    {
     "data": {
      "text/html": [
       "<div>\n",
       "<style scoped>\n",
       "    .dataframe tbody tr th:only-of-type {\n",
       "        vertical-align: middle;\n",
       "    }\n",
       "\n",
       "    .dataframe tbody tr th {\n",
       "        vertical-align: top;\n",
       "    }\n",
       "\n",
       "    .dataframe thead th {\n",
       "        text-align: right;\n",
       "    }\n",
       "</style>\n",
       "<table border=\"1\" class=\"dataframe\">\n",
       "  <thead>\n",
       "    <tr style=\"text-align: right;\">\n",
       "      <th></th>\n",
       "      <th>elevation_m</th>\n",
       "      <th>geometry</th>\n",
       "    </tr>\n",
       "  </thead>\n",
       "  <tbody>\n",
       "    <tr>\n",
       "      <th>0</th>\n",
       "      <td>318.490</td>\n",
       "      <td>POINT (-10435906.070 5149216.030)</td>\n",
       "    </tr>\n",
       "    <tr>\n",
       "      <th>1</th>\n",
       "      <td>318.370</td>\n",
       "      <td>POINT (-10435907.330 5149215.640)</td>\n",
       "    </tr>\n",
       "    <tr>\n",
       "      <th>2</th>\n",
       "      <td>318.410</td>\n",
       "      <td>POINT (-10435908.700 5149215.960)</td>\n",
       "    </tr>\n",
       "    <tr>\n",
       "      <th>3</th>\n",
       "      <td>318.150</td>\n",
       "      <td>POINT (-10435921.570 5149216.780)</td>\n",
       "    </tr>\n",
       "    <tr>\n",
       "      <th>4</th>\n",
       "      <td>318.290</td>\n",
       "      <td>POINT (-10435920.250 5149216.480)</td>\n",
       "    </tr>\n",
       "    <tr>\n",
       "      <th>...</th>\n",
       "      <td>...</td>\n",
       "      <td>...</td>\n",
       "    </tr>\n",
       "    <tr>\n",
       "      <th>403326</th>\n",
       "      <td>317.410</td>\n",
       "      <td>POINT (-10436014.380 5149162.150)</td>\n",
       "    </tr>\n",
       "    <tr>\n",
       "      <th>403327</th>\n",
       "      <td>317.390</td>\n",
       "      <td>POINT (-10436011.290 5149162.570)</td>\n",
       "    </tr>\n",
       "    <tr>\n",
       "      <th>403328</th>\n",
       "      <td>317.360</td>\n",
       "      <td>POINT (-10436010.230 5149162.720)</td>\n",
       "    </tr>\n",
       "    <tr>\n",
       "      <th>403329</th>\n",
       "      <td>317.340</td>\n",
       "      <td>POINT (-10436009.160 5149162.870)</td>\n",
       "    </tr>\n",
       "    <tr>\n",
       "      <th>403330</th>\n",
       "      <td>317.460</td>\n",
       "      <td>POINT (-10436005.720 5149163.330)</td>\n",
       "    </tr>\n",
       "  </tbody>\n",
       "</table>\n",
       "<p>403331 rows × 2 columns</p>\n",
       "</div>"
      ],
      "text/plain": [
       "       elevation_m                           geometry\n",
       "0          318.490  POINT (-10435906.070 5149216.030)\n",
       "1          318.370  POINT (-10435907.330 5149215.640)\n",
       "2          318.410  POINT (-10435908.700 5149215.960)\n",
       "3          318.150  POINT (-10435921.570 5149216.780)\n",
       "4          318.290  POINT (-10435920.250 5149216.480)\n",
       "...            ...                                ...\n",
       "403326     317.410  POINT (-10436014.380 5149162.150)\n",
       "403327     317.390  POINT (-10436011.290 5149162.570)\n",
       "403328     317.360  POINT (-10436010.230 5149162.720)\n",
       "403329     317.340  POINT (-10436009.160 5149162.870)\n",
       "403330     317.460  POINT (-10436005.720 5149163.330)\n",
       "\n",
       "[403331 rows x 2 columns]"
      ]
     },
     "execution_count": 13,
     "metadata": {},
     "output_type": "execute_result"
    }
   ],
   "source": [
    "method.geodf('spatial_subset.geojson')"
   ]
  },
  {
   "cell_type": "code",
   "execution_count": 14,
   "id": "d4653f29-fb76-4a07-b247-3c73880e5301",
   "metadata": {},
   "outputs": [
    {
     "data": {
      "image/png": "[encoded data removed]",
      "text/plain": [
       "<Figure size 432x288 with 2 Axes>"
      ]
     },
     "metadata": {
      "needs_background": "light"
     },
     "output_type": "display_data"
    }
   ],
   "source": [
    "method.plot_raster('spatial_subset.tif')"
   ]
  },
  {
   "cell_type": "code",
   "execution_count": null,
   "id": "319678fc-9980-4bbd-83b4-a3c17255d2d1",
   "metadata": {},
   "outputs": [],
   "source": [
    "method.plot3d()"
   ]
  },
  {
   "cell_type": "code",
   "execution_count": null,
   "id": "a5296e91-f855-48c6-89c5-c6416a5cb55c",
   "metadata": {},
   "outputs": [],
   "source": []
  }
 ],
 "metadata": {
  "kernelspec": {
   "display_name": "Python 3 (ipykernel)",
   "language": "python",
   "name": "python3"
  },
  "language_info": {
   "codemirror_mode": {
    "name": "ipython",
    "version": 3
   },
   "file_extension": ".py",
   "mimetype": "text/x-python",
   "name": "python",
   "nbconvert_exporter": "python",
   "pygments_lexer": "ipython3",
   "version": "3.9.5"
  }
 },
 "nbformat": 4,
 "nbformat_minor": 5
}
